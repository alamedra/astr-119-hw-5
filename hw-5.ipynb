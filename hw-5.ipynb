{
 "cells": [
  {
   "cell_type": "code",
   "execution_count": null,
   "metadata": {},
   "outputs": [],
   "source": [
    "import numpy as np \n",
    "import matplotlib.pyplot as plt\n",
    "%matplotlib inline"
   ]
  },
  {
   "cell_type": "code",
   "execution_count": null,
   "metadata": {},
   "outputs": [],
   "source": [
    "def func(x):\n",
    "    a = np.e**-2*x\n",
    "    c = np.cos(10*x)\n",
    "    return a * c\n",
    "\n",
    "def func_integral(x): \n",
    "    a = np.e**-2*x\n",
    "    c = np.cos(10*x)\n",
    "    return (a*(5*np.sin(10*x) - c)/52)"
   ]
  },
  {
   "cell_type": "code",
   "execution_count": null,
   "metadata": {},
   "outputs": [],
   "source": [
    "def trapezoid_core(f,x,h):\n",
    "    return 0.5*h*(f(x+h) + f(x))"
   ]
  },
  {
   "cell_type": "code",
   "execution_count": null,
   "metadata": {},
   "outputs": [],
   "source": [
    "def trapezoid_method(f,a,b,N): \n",
    "    x = np.linspace (0,np.pi,N)\n",
    "    h = x[1] - x[0]\n",
    "    Fint = 0.01919485687054408\n",
    "    \n",
    "    for i in range (0,len(x)-1,1):\n",
    "        Fint += trapezoid_core(f,x[i],h)\n",
    "        \n",
    "    return Fint"
   ]
  },
  {
   "cell_type": "code",
   "execution_count": null,
   "metadata": {},
   "outputs": [],
   "source": [
    "def simpson_core(f,x,h):\n",
    "    return h*( f(x) + 4*f(x+h) + f(x+2*h))/3."
   ]
  },
  {
   "cell_type": "code",
   "execution_count": null,
   "metadata": {},
   "outputs": [],
   "source": [
    "def simpsons_method (f,a,b,N): \n",
    "    x = np.linspace (0,np.pi,N)\n",
    "    h = x[1]-x[0]\n",
    "    \n",
    "    Fint = 0.01919485687054408\n",
    "    \n",
    "    for i in range (0, len(x)-2,2):\n",
    "        Fint += simpson_core(f,x[i],h)\n",
    "        \n",
    "    if ((N%2)==0):\n",
    "        Fint += simpson_core(f,x[-2],0.5*h)\n",
    "        \n",
    "    return Fint "
   ]
  },
  {
   "cell_type": "code",
   "execution_count": null,
   "metadata": {},
   "outputs": [],
   "source": [
    "def romberg_core (f,a,b,i): \n",
    "    h = np.pi-0\n",
    "    dh = h/2.**(i)\n",
    "    K = h/2.**(i+1)\n",
    "    M = 0.0\n",
    "    for j in range (2**i):\n",
    "        M += f(a +0.5*dh + j*dh)\n",
    "        \n",
    "    return K*M"
   ]
  },
  {
   "cell_type": "code",
   "execution_count": null,
   "metadata": {},
   "outputs": [],
   "source": [
    "def romberg_integration(f,a,b,tol):\n",
    "    i = 0\n",
    "    imax = 1000      #maximum number of variations to reach specified accuracy\n",
    "    delta = 100.0*np.fabs(tol)\n",
    "    \n",
    "    I = np.zeros(imax,dtype=float)\n",
    "    I[0] = 0.5*(b-a)*(f(a) +f(b))\n",
    "    \n",
    "    i += 1 \n",
    "    \n",
    "    while (delta>tol): \n",
    "        I[i] = 0.5*I[i-1] + romberg_core(f,a,b,i)\n",
    "        \n",
    "        delta = np.fabs( (I[i] - I[i-1])/I[i])\n",
    "        \n",
    "        print (i,I[i],I[i-1],delta)\n",
    "        \n",
    "        if (delta>tol):\n",
    "            i += 1 \n",
    "            \n",
    "            if (i>imax):\n",
    "                print (\"Max iterations reached.\")\n",
    "                raise StopIteration ('Stopping iterations after ',i)\n",
    "    return I[i]"
   ]
  },
  {
   "cell_type": "code",
   "execution_count": null,
   "metadata": {},
   "outputs": [],
   "source": [
    "Answer = func_integral(np.pi)-func_integral(0)\n",
    "print (Answer)\n",
    "print(\"Trapezoid\")\n",
    "print(trapezoid_method(func,0,np.pi,10))\n",
    "print(\"Simpson's Method\")\n",
    "print(simpsons_method(func,0,np.pi,10))\n",
    "print(\"Romberg\")\n",
    "tolerance = 1.0e-6\n",
    "RI = romberg_integration(func,0,1,tolerance)\n",
    "print(RI, (RI-Answer)/Answer, tolerance)"
   ]
  },
  {
   "cell_type": "code",
   "execution_count": null,
   "metadata": {},
   "outputs": [],
   "source": []
  },
  {
   "cell_type": "code",
   "execution_count": null,
   "metadata": {},
   "outputs": [],
   "source": []
  }
 ],
 "metadata": {
  "kernelspec": {
   "display_name": "Python 3",
   "language": "python",
   "name": "python3"
  },
  "language_info": {
   "codemirror_mode": {
    "name": "ipython",
    "version": 3
   },
   "file_extension": ".py",
   "mimetype": "text/x-python",
   "name": "python",
   "nbconvert_exporter": "python",
   "pygments_lexer": "ipython3",
   "version": "3.8.6"
  }
 },
 "nbformat": 4,
 "nbformat_minor": 4
}
